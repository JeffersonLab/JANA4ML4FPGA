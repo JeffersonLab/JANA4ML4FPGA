{
 "cells": [
  {
   "cell_type": "code",
   "execution_count": 2,
   "id": "initial_id",
   "metadata": {
    "collapsed": true,
    "ExecuteTime": {
     "end_time": "2023-12-16T03:04:27.698118400Z",
     "start_time": "2023-12-16T03:04:27.695111300Z"
    }
   },
   "outputs": [],
   "source": [
    "import uproot\n",
    "import matplotlib.pyplot as plt\n",
    "import numpy as np\n"
   ]
  },
  {
   "cell_type": "code",
   "execution_count": 6,
   "outputs": [
    {
     "data": {
      "text/plain": "['srs_raw_count',\n 'srs_raw_roc',\n 'srs_raw_slot',\n 'srs_raw_channel',\n 'srs_raw_apv_id',\n 'srs_raw_channel_apv',\n 'srs_raw_best_sample',\n 'srs_raw_samples_index',\n 'srs_raw_samples_count',\n 'srs_raw_samples',\n 'f125_wraw_count',\n 'f125_wraw_roc',\n 'f125_wraw_slot',\n 'f125_wraw_channel',\n 'f125_wraw_invalid_samples',\n 'f125_wraw_overflow',\n 'f125_wraw_itrigger',\n 'f125_wraw_samples_index',\n 'f125_wraw_samples_count',\n 'f125_wraw_samples',\n 'f250_wraw_count',\n 'f250_wraw_roc',\n 'f250_wraw_slot',\n 'f250_wraw_channel',\n 'f250_wraw_invalid_samples',\n 'f250_wraw_overflow',\n 'f250_wraw_itrigger',\n 'f250_wraw_samples_index',\n 'f250_wraw_samples_count',\n 'f250_wraw_samples',\n 'f125_pulse_count',\n 'f125_pulse_roc',\n 'f125_pulse_slot',\n 'f125_pulse_channel',\n 'f125_pulse_npk',\n 'f125_pulse_le_time',\n 'f125_pulse_time_quality_bit',\n 'f125_pulse_overflow_count',\n 'f125_pulse_pedestal',\n 'f125_pulse_integral',\n 'f125_pulse_peak_amp',\n 'f125_pulse_peak_time',\n 'f125_pulse_word1',\n 'f125_pulse_word2',\n 'f125_pulse_nsamples_pedestal',\n 'f125_pulse_nsamples_integral',\n 'f125_pulse_emulated',\n 'f125_pulse_le_time_emulated',\n 'f125_pulse_time_quality_bit_emulated',\n 'f125_pulse_overflow_count_emulated',\n 'f125_pulse_pedestal_emulated',\n 'f125_pulse_integral_emulated',\n 'f125_pulse_peak_amp_emulated',\n 'f125_pulse_peak_time_emulated',\n 'f250_pulse_count',\n 'f250_pulse_roc',\n 'f250_pulse_slot',\n 'f250_pulse_channel',\n 'f250_pulse_event_within_block',\n 'f250_pulse_qf_pedestal',\n 'f250_pulse_pedestal',\n 'f250_pulse_integral',\n 'f250_pulse_qf_nsa_beyond_ptw',\n 'f250_pulse_qf_overflow',\n 'f250_pulse_qf_underflow',\n 'f250_pulse_nsamples_over_threshold',\n 'f250_pulse_course_time',\n 'f250_pulse_fine_time',\n 'f250_pulse_pulse_peak',\n 'f250_pulse_qf_vpeak_beyond_nsa',\n 'f250_pulse_qf_vpeak_not_found',\n 'f250_pulse_qf_bad_pedestal',\n 'f250_pulse_pulse_number',\n 'f250_pulse_nsamples_integral',\n 'f250_pulse_nsamples_pedestal',\n 'f250_pulse_emulated',\n 'f250_pulse_integral_emulated',\n 'f250_pulse_pedestal_emulated',\n 'f250_pulse_time_emulated',\n 'f250_pulse_course_time_emulated',\n 'f250_pulse_fine_time_emulated',\n 'f250_pulse_pulse_peak_emulated',\n 'f250_pulse_qf_emulated',\n 'gem_scluster_count',\n 'gem_scluster_x',\n 'gem_scluster_y',\n 'gem_scluster_energy',\n 'gem_scluster_adc',\n 'srs_prerecon_count',\n 'srs_prerecon_y',\n 'srs_prerecon_x',\n 'gem_peak_count',\n 'gem_peak_plane_id',\n 'gem_peak_plane_name',\n 'gem_peak_index',\n 'gem_peak_apv_id',\n 'gem_peak_time_id',\n 'gem_peak_height',\n 'gem_peak_width',\n 'gem_peak_area',\n 'gem_peak_real_pos']"
     },
     "execution_count": 6,
     "metadata": {},
     "output_type": "execute_result"
    }
   ],
   "source": [
    "np.random.seed(1)\n",
    "\n",
    "events = uproot.open(\"/mnt/d/data/gemtrd/003200_v9_hists.root\")[\"events\"]\n",
    "events.keys()"
   ],
   "metadata": {
    "collapsed": false,
    "ExecuteTime": {
     "end_time": "2023-12-16T03:08:26.955797800Z",
     "start_time": "2023-12-16T03:08:26.902782Z"
    }
   },
   "id": "b52115eeb6297fee"
  },
  {
   "cell_type": "markdown",
   "source": [
    "Now we need to extract number of time-bins for each channel.\n",
    "The number is actually the same for the whole run, so we need to get only one element"
   ],
   "metadata": {
    "collapsed": false
   },
   "id": "982c2ebc16ac2b3"
  },
  {
   "cell_type": "code",
   "execution_count": null,
   "outputs": [],
   "source": [
    "events['srs_raw_samples_count'].array(library=\"np\", entry_start=entry_start, entry_stop=entry_start+1)[0][0]"
   ],
   "metadata": {
    "collapsed": false
   },
   "id": "501a9cbacb5a2d12"
  },
  {
   "cell_type": "code",
   "execution_count": 7,
   "outputs": [
    {
     "data": {
      "text/plain": "uproot.models.TTree.Model_TTree_v20"
     },
     "execution_count": 7,
     "metadata": {},
     "output_type": "execute_result"
    }
   ],
   "source": [
    "type(events)"
   ],
   "metadata": {
    "collapsed": false,
    "ExecuteTime": {
     "end_time": "2023-12-16T03:08:48.621169800Z",
     "start_time": "2023-12-16T03:08:48.617664200Z"
    }
   },
   "id": "ecd476d1073a474a"
  },
  {
   "cell_type": "code",
   "execution_count": 9,
   "outputs": [
    {
     "data": {
      "text/plain": "array([array([2820, 2810, 2717, ..., 2881, 2872, 2868], dtype=uint16),\n       array([2886, 2814, 2757, ..., 2904, 2908, 2899], dtype=uint16),\n       array([2847, 2755, 2788, ..., 2882, 2883, 2893], dtype=uint16),\n       array([2831, 2710, 2758, ..., 2873, 2835, 2818], dtype=uint16),\n       array([2742, 2808, 2891, ..., 2880, 2875, 2902], dtype=uint16),\n       array([2777, 2807, 2879, ..., 2903, 2917, 2895], dtype=uint16),\n       array([2724, 2816, 2848, ..., 2865, 2864, 2881], dtype=uint16),\n       array([2830, 2734, 2797, ..., 2876, 2885, 2917], dtype=uint16)],\n      dtype=object)"
     },
     "execution_count": 9,
     "metadata": {},
     "output_type": "execute_result"
    }
   ],
   "source": [
    "entry_start = 2\n",
    "entry_stop = 10\n",
    "# 'srs_raw_channel',\n",
    "# 'srs_raw_apv_id',\n",
    "# 'srs_raw_channel_apv',\n",
    "# 'srs_raw_best_sample',\n",
    "# 'srs_raw_samples_index',\n",
    "# 'srs_raw_samples_count',\n",
    "\n",
    "all = events['srs_raw_samples'].array(library=\"np\", entry_start=entry_start, entry_stop=entry_stop)\n"
   ],
   "metadata": {
    "collapsed": false,
    "ExecuteTime": {
     "end_time": "2023-12-16T03:10:14.527113200Z",
     "start_time": "2023-12-16T03:10:14.518446300Z"
    }
   },
   "id": "38ff6a9d176e0117"
  },
  {
   "cell_type": "code",
   "execution_count": 10,
   "outputs": [],
   "source": [
    "entry_start = 2\n",
    "entry_stop = 10\n",
    "# 'srs_raw_channel',\n",
    "# 'srs_raw_apv_id',\n",
    "# 'srs_raw_channel_apv',\n",
    "# 'srs_raw_best_sample',\n",
    "# 'srs_raw_samples_index',\n",
    "# 'srs_raw_samples_count',\n",
    "\n",
    "all2 = events['srs_raw_samples'].array(entry_start=entry_start, entry_stop=entry_stop)\n",
    "\n",
    " "
   ],
   "metadata": {
    "collapsed": false,
    "ExecuteTime": {
     "end_time": "2023-12-16T03:11:07.227130400Z",
     "start_time": "2023-12-16T03:11:07.155273300Z"
    }
   },
   "id": "a48c2042399115a5"
  },
  {
   "cell_type": "code",
   "execution_count": 15,
   "outputs": [
    {
     "data": {
      "text/plain": "6"
     },
     "execution_count": 15,
     "metadata": {},
     "output_type": "execute_result"
    }
   ],
   "source": [
    "\n"
   ],
   "metadata": {
    "collapsed": false,
    "ExecuteTime": {
     "end_time": "2023-12-16T03:13:20.106447900Z",
     "start_time": "2023-12-16T03:13:20.102448300Z"
    }
   },
   "id": "a82ed5d42ce7f206"
  },
  {
   "cell_type": "code",
   "execution_count": 12,
   "outputs": [
    {
     "data": {
      "text/html": "<pre>[2820,\n 2810,\n 2717,\n 2774,\n 2865,\n 2856,\n 2921,\n 2904,\n 2840,\n 2849,\n ...,\n 2943,\n 2949,\n 2968,\n 2889,\n 2888,\n 2883,\n 2881,\n 2872,\n 2868]\n-------------------\ntype: 5376 * uint16</pre>",
      "text/plain": "<Array [2820, 2810, 2717, 2774, ..., 2881, 2872, 2868] type='5376 * uint16'>"
     },
     "execution_count": 12,
     "metadata": {},
     "output_type": "execute_result"
    }
   ],
   "source": [
    "all2[0]"
   ],
   "metadata": {
    "collapsed": false,
    "ExecuteTime": {
     "end_time": "2023-12-16T03:11:24.764248400Z",
     "start_time": "2023-12-16T03:11:24.757730900Z"
    }
   },
   "id": "162dfa9866f43043"
  },
  {
   "cell_type": "code",
   "execution_count": null,
   "outputs": [],
   "source": [],
   "metadata": {
    "collapsed": false
   },
   "id": "58de29ebd708cf60"
  }
 ],
 "metadata": {
  "kernelspec": {
   "display_name": "Python 3",
   "language": "python",
   "name": "python3"
  },
  "language_info": {
   "codemirror_mode": {
    "name": "ipython",
    "version": 2
   },
   "file_extension": ".py",
   "mimetype": "text/x-python",
   "name": "python",
   "nbconvert_exporter": "python",
   "pygments_lexer": "ipython2",
   "version": "2.7.6"
  }
 },
 "nbformat": 4,
 "nbformat_minor": 5
}
